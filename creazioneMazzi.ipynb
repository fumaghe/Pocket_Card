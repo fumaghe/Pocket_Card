{
 "cells": [
  {
   "cell_type": "code",
   "execution_count": 7,
   "metadata": {},
   "outputs": [],
   "source": [
    "import pandas as pd"
   ]
  },
  {
   "cell_type": "code",
   "execution_count": 8,
   "metadata": {},
   "outputs": [
    {
     "data": {
      "text/plain": [
       "(140, 8)"
      ]
     },
     "execution_count": 8,
     "metadata": {},
     "output_type": "execute_result"
    }
   ],
   "source": [
    "data = pd.read_csv('Carte.csv')\n",
    "data.shape"
   ]
  },
  {
   "cell_type": "code",
   "execution_count": 9,
   "metadata": {},
   "outputs": [
    {
     "data": {
      "text/html": [
       "<div>\n",
       "<style scoped>\n",
       "    .dataframe tbody tr th:only-of-type {\n",
       "        vertical-align: middle;\n",
       "    }\n",
       "\n",
       "    .dataframe tbody tr th {\n",
       "        vertical-align: top;\n",
       "    }\n",
       "\n",
       "    .dataframe thead th {\n",
       "        text-align: right;\n",
       "    }\n",
       "</style>\n",
       "<table border=\"1\" class=\"dataframe\">\n",
       "  <thead>\n",
       "    <tr style=\"text-align: right;\">\n",
       "      <th></th>\n",
       "      <th>ID</th>\n",
       "      <th>Nome Carta</th>\n",
       "      <th>Mana</th>\n",
       "      <th>Forza</th>\n",
       "      <th>Effetto 1</th>\n",
       "      <th>Effetto 2</th>\n",
       "      <th>Tipo</th>\n",
       "      <th>Evocata</th>\n",
       "    </tr>\n",
       "  </thead>\n",
       "  <tbody>\n",
       "    <tr>\n",
       "      <th>0</th>\n",
       "      <td>1</td>\n",
       "      <td>Nacho D'oro</td>\n",
       "      <td>4</td>\n",
       "      <td>4</td>\n",
       "      <td>Bonus</td>\n",
       "      <td>Evoca</td>\n",
       "      <td>Cibo</td>\n",
       "      <td>No</td>\n",
       "    </tr>\n",
       "    <tr>\n",
       "      <th>1</th>\n",
       "      <td>2</td>\n",
       "      <td>Nacho Minore</td>\n",
       "      <td>2</td>\n",
       "      <td>2</td>\n",
       "      <td>Nessun Effetto</td>\n",
       "      <td>Nessun Effetto</td>\n",
       "      <td>Cibo</td>\n",
       "      <td>Si</td>\n",
       "    </tr>\n",
       "    <tr>\n",
       "      <th>2</th>\n",
       "      <td>3</td>\n",
       "      <td>Riccardo Dio Del Caos</td>\n",
       "      <td>6</td>\n",
       "      <td>9</td>\n",
       "      <td>Rievoca</td>\n",
       "      <td>Bonus</td>\n",
       "      <td>Persona</td>\n",
       "      <td>No</td>\n",
       "    </tr>\n",
       "    <tr>\n",
       "      <th>3</th>\n",
       "      <td>4</td>\n",
       "      <td>Federica Dea Del Farro</td>\n",
       "      <td>5</td>\n",
       "      <td>7</td>\n",
       "      <td>Reset</td>\n",
       "      <td>Bonus</td>\n",
       "      <td>Persona</td>\n",
       "      <td>No</td>\n",
       "    </tr>\n",
       "    <tr>\n",
       "      <th>4</th>\n",
       "      <td>5</td>\n",
       "      <td>Anselmi Alchimista</td>\n",
       "      <td>2</td>\n",
       "      <td>3</td>\n",
       "      <td>Pesca</td>\n",
       "      <td>Nessun Effetto</td>\n",
       "      <td>Persona</td>\n",
       "      <td>No</td>\n",
       "    </tr>\n",
       "  </tbody>\n",
       "</table>\n",
       "</div>"
      ],
      "text/plain": [
       "   ID              Nome Carta Mana Forza       Effetto 1       Effetto 2  \\\n",
       "0   1             Nacho D'oro    4     4           Bonus           Evoca   \n",
       "1   2            Nacho Minore    2     2  Nessun Effetto  Nessun Effetto   \n",
       "2   3   Riccardo Dio Del Caos    6     9         Rievoca           Bonus   \n",
       "3   4  Federica Dea Del Farro    5     7           Reset           Bonus   \n",
       "4   5      Anselmi Alchimista    2     3           Pesca  Nessun Effetto   \n",
       "\n",
       "      Tipo Evocata  \n",
       "0     Cibo      No  \n",
       "1     Cibo      Si  \n",
       "2  Persona      No  \n",
       "3  Persona      No  \n",
       "4  Persona      No  "
      ]
     },
     "execution_count": 9,
     "metadata": {},
     "output_type": "execute_result"
    }
   ],
   "source": [
    "data.head()"
   ]
  },
  {
   "cell_type": "code",
   "execution_count": 18,
   "metadata": {},
   "outputs": [
    {
     "name": "stdout",
     "output_type": "stream",
     "text": [
      "Mazzi salvati in 'mazzi.json'\n"
     ]
    }
   ],
   "source": [
    "import pandas as pd\n",
    "import random\n",
    "import json\n",
    "\n",
    "# Carica i dati del file delle carte\n",
    "data = pd.read_csv('Carte.csv')\n",
    "\n",
    "# Assicurati che la colonna 'Mana' sia trattata come numerica\n",
    "data['Mana'] = pd.to_numeric(data['Mana'], errors='coerce')\n",
    "\n",
    "# Funzione per creare mazzi\n",
    "# Un mazzo è equilibrato nel costo in mana e ha effetti coerenti tra di loro\n",
    "def crea_mazzo(data, mazzo_size=12, mana_min=25, mana_max=48):\n",
    "    mazzi = {}\n",
    "\n",
    "    # Filtra il dataset per ottenere solo carte che rispettano i requisiti di mana\n",
    "    data_filtrata = data[(data['Mana'] >= 1) & (data['Mana'] <= mana_max)].dropna(subset=['Mana'])\n",
    "\n",
    "    # Identifica tutti gli effetti unici presenti in Effetto 1 ed Effetto 2 (escludendo \"Nessun Effetto\")\n",
    "    effetti_unici = set(data_filtrata['Effetto 1']).union(set(data_filtrata['Effetto 2']))\n",
    "    effetti_unici.discard(\"Nessun Effetto\")\n",
    "\n",
    "    for effetto in effetti_unici:\n",
    "        # Filtra le carte che hanno l'effetto specificato in Effetto 1 o Effetto 2\n",
    "        carte_con_effetto = data_filtrata[(data_filtrata['Effetto 1'] == effetto) | (data_filtrata['Effetto 2'] == effetto)]\n",
    "\n",
    "        if len(carte_con_effetto) >= mazzo_size:\n",
    "            # Mischia le carte\n",
    "            carte_con_effetto = carte_con_effetto.sample(frac=1, random_state=random.randint(1, 100))\n",
    "\n",
    "            # Seleziona un mazzo bilanciato in mana\n",
    "            mazzo = bilancia_mana(carte_con_effetto, mazzo_size, mana_min, mana_max)\n",
    "            if mazzo is not None:\n",
    "                mazzi[effetto] = mazzo.to_dict(orient='records')\n",
    "\n",
    "    return mazzi\n",
    "\n",
    "# Funzione per bilanciare il mana in un mazzo\n",
    "def bilancia_mana(carte, mazzo_size, mana_min, mana_max):\n",
    "    for _ in range(100):  # Prova a trovare un mazzo bilanciato in 100 tentativi\n",
    "        if len(carte) < mazzo_size:\n",
    "            return None\n",
    "        mazzo = carte.sample(n=mazzo_size, random_state=random.randint(1, 100))\n",
    "        total_mana = mazzo['Mana'].sum()\n",
    "        if mana_min <= total_mana <= mana_max:\n",
    "            return mazzo\n",
    "    return None\n",
    "\n",
    "# Esempio di utilizzo\n",
    "mazzi_creati = crea_mazzo(data)\n",
    "\n",
    "# Controlla se sono stati creati mazzi\n",
    "if mazzi_creati:\n",
    "    # Salva i mazzi in un file JSON\n",
    "    with open('mazzi.json', 'w', encoding='utf-8') as f:\n",
    "        json.dump(mazzi_creati, f, ensure_ascii=False, indent=4)\n",
    "    print(\"Mazzi salvati in 'mazzi.json'\")\n",
    "else:\n",
    "    print(\"Nessun mazzo creato. Controlla i criteri di filtro o il dataset.\")\n"
   ]
  }
 ],
 "metadata": {
  "kernelspec": {
   "display_name": "Python 3",
   "language": "python",
   "name": "python3"
  },
  "language_info": {
   "codemirror_mode": {
    "name": "ipython",
    "version": 3
   },
   "file_extension": ".py",
   "mimetype": "text/x-python",
   "name": "python",
   "nbconvert_exporter": "python",
   "pygments_lexer": "ipython3",
   "version": "3.12.6"
  }
 },
 "nbformat": 4,
 "nbformat_minor": 2
}
